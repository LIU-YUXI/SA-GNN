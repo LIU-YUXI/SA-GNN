{
 "cells": [
  {
   "cell_type": "code",
   "execution_count": 2,
   "id": "b6d94ed4",
   "metadata": {},
   "outputs": [
    {
     "name": "stdout",
     "output_type": "stream",
     "text": [
      "8\n",
      "24\n",
      "67\n",
      "87\n",
      "79\n",
      "48\n",
      "10\n",
      "94\n"
     ]
    }
   ],
   "source": [
    "import numpy as np\n",
    "np.random.seed(100)\n",
    "rdmItm = np.random.choice(99)\n",
    "print(rdmItm)\n",
    "rdmItm = np.random.choice(99)\n",
    "print(rdmItm)\n",
    "rdmItm = np.random.choice(99)\n",
    "print(rdmItm)\n",
    "rdmItm = np.random.choice(99)\n",
    "print(rdmItm)\n",
    "rdmItm = np.random.choice(99)\n",
    "print(rdmItm)\n",
    "rdmItm = np.random.choice(99)\n",
    "print(rdmItm)\n",
    "rdmItm = np.random.choice(99)\n",
    "print(rdmItm)\n",
    "rdmItm = np.random.choice(99)\n",
    "print(rdmItm)"
   ]
  }
 ],
 "metadata": {
  "kernelspec": {
   "display_name": "Python 3.8.10 64-bit",
   "language": "python",
   "name": "python3"
  },
  "language_info": {
   "codemirror_mode": {
    "name": "ipython",
    "version": 3
   },
   "file_extension": ".py",
   "mimetype": "text/x-python",
   "name": "python",
   "nbconvert_exporter": "python",
   "pygments_lexer": "ipython3",
   "version": "3.8.10"
  },
  "vscode": {
   "interpreter": {
    "hash": "ee2cfa7faee24a60f1dc2f0602fd83d792edb5885fda1570359e2d1aab7315ad"
   }
  }
 },
 "nbformat": 4,
 "nbformat_minor": 5
}
